{
 "cells": [
  {
   "cell_type": "code",
   "execution_count": 3,
   "id": "5191479b",
   "metadata": {
    "ExecuteTime": {
     "start_time": "2024-08-16T22:15:00.556152Z",
     "end_time": "2024-08-16T22:15:00.560265Z"
    }
   },
   "outputs": [
    {
     "name": "stdout",
     "output_type": "stream",
     "text": [
      "440 660\n"
     ]
    }
   ],
   "source": [
    "import re\n",
    "\n",
    "input = '/static/landkit/assets/img/photos/photo-10.jpg?size=440x660'\n",
    "if '?' in input:\n",
    "    option = input.split('?')[1]\n",
    "    m = re.search(r'size=(\\d+)x(\\d+)', option)\n",
    "    if m:\n",
    "        print(m.group(1), m.group(2))\n",
    "    else:\n",
    "        print('no match')\n"
   ]
  },
  {
   "cell_type": "code",
   "execution_count": null,
   "outputs": [],
   "source": [],
   "metadata": {
    "collapsed": false
   }
  }
 ],
 "metadata": {
  "kernelspec": {
   "display_name": "Python 3",
   "language": "python",
   "name": "python3"
  },
  "language_info": {
   "codemirror_mode": {
    "name": "ipython",
    "version": 3
   },
   "file_extension": ".py",
   "mimetype": "text/x-python",
   "name": "python",
   "nbconvert_exporter": "python",
   "pygments_lexer": "ipython3",
   "version": "3.9.4"
  }
 },
 "nbformat": 4,
 "nbformat_minor": 5
}
